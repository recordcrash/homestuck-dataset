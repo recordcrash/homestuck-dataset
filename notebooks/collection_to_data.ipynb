{
 "cells": [
  {
   "cell_type": "markdown",
   "source": [
    "# Converting Homestuck Collection data to an agnostic dataset\n",
    "\n",
    "This notebook has all the steps for taking data from the [Unofficial Homestuck Collection](https://bambosh.dev/unofficial-homestuck-collection/)'s asset pack and converting it into a dataset that can be used for training a machine learning model.\n",
    "\n",
    "Some planned uses for this are:\n",
    "- Summarization\n",
    "- Style transfer/LORAs\n",
    "- Chatbots"
   ],
   "metadata": {
    "collapsed": false
   },
   "id": "4fc6db19026c6712"
  },
  {
   "cell_type": "markdown",
   "source": [
    "# Constants and Imports"
   ],
   "metadata": {
    "collapsed": false
   },
   "id": "3a5b4fe83d23a00"
  },
  {
   "cell_type": "code",
   "outputs": [],
   "source": [
    "\"\"\"\n",
    "IMPORTS\n",
    "Put all at the beginning because I hate notebooks so much\n",
    "\"\"\"\n",
    "import os\n",
    "import pandas as pd\n",
    "import numpy as np\n",
    "import json\n",
    "import re\n",
    "import random\n",
    "import shutil\n",
    "from dotenv import load_dotenv"
   ],
   "metadata": {
    "collapsed": false,
    "ExecuteTime": {
     "end_time": "2024-04-17T09:34:20.307167Z",
     "start_time": "2024-04-17T09:34:20.303938Z"
    }
   },
   "id": "a96f77f5afe024c2",
   "execution_count": 7
  },
  {
   "cell_type": "code",
   "outputs": [
    {
     "name": "stdout",
     "output_type": "stream",
     "text": [
      "Loading constants from .env file\n",
      "...\n",
      "Loaded constants successfully\n"
     ]
    }
   ],
   "source": [
    "\"\"\"\n",
    "CONSTANTS\n",
    "This will extract constants from the env variables set in the .env file \n",
    "and make them accessible to the notebook\n",
    "\"\"\"\n",
    "print(\"Loading constants from .env file\\n...\")\n",
    "load_dotenv()\n",
    "\n",
    "ASSET_PACK_FOLDER = os.getenv(\"ASSET_PACK_FOLDER\")\n",
    "OUTPUT_FOLDER = os.getenv(\"OUTPUT_FOLDER\")\n",
    "    \n",
    "# Relevant folders and files\n",
    "DATA_FOLDER = os.path.join(ASSET_PACK_FOLDER, \"archive/data\")\n",
    "\n",
    "# Holds all the text in MS Paint Adventures, including Homestuck\n",
    "MSPA_TEXT_JSON = os.path.join(DATA_FOLDER, \"mspa.json\")\n",
    "# Holds the text for news posts\n",
    "NEWS_JSON = os.path.join(DATA_FOLDER, \"news.json\")\n",
    "# Holds the text for social media posts\n",
    "SOCIAL_JSON = os.path.join(DATA_FOLDER, \"social.json\")\n",
    "# Most of this is irrelevant, but holds images for additional Hussie comics\n",
    "# such as Team Special Olympics\n",
    "ADDITIONAL_COMICS_JSON = os.path.join(DATA_FOLDER, \"comics.json\")\n",
    "print(\"Loaded constants successfully\")"
   ],
   "metadata": {
    "collapsed": false,
    "ExecuteTime": {
     "end_time": "2024-04-17T09:48:18.783561Z",
     "start_time": "2024-04-17T09:48:18.778179Z"
    }
   },
   "id": "e78f80818098b035",
   "execution_count": 16
  },
  {
   "cell_type": "markdown",
   "source": [
    "# Extract MSPA data\n",
    "\n",
    "First of all, we want to open the MSPA_TEXT_JSON and fetch all the text data from it. This will be the main source of text data for our dataset."
   ],
   "metadata": {
    "collapsed": false
   },
   "id": "4bee659a168b55b1"
  },
  {
   "cell_type": "code",
   "outputs": [
    {
     "data": {
      "text/plain": "'\\nThe JSON is structured in a way that makes it easy to extract the text data, but we can make it better.\\nThis is a better format for a ML dataset:\\n{\\n    \\n    \"story\": \"Homestuck\"\\n    \"pageId\": \"001902\",\\n    \"title\": \"Enter name\",\\n    \"content\": \"...\",\\n    \"html_content\": \"...\",\\n    \"media\": [\\n        {\\n            \"type\": \"image\",\\n            \"src\": \"...\",  # Relative within dataset\\n            \"textDescription\": \"...\"\\n        }\\n    ],\\n    \"next\": \"001903\",\\n    \"next_title\": \"Try again.\",\\n}\\n'"
     },
     "execution_count": 22,
     "metadata": {},
     "output_type": "execute_result"
    }
   ],
   "source": [
    "\"\"\"\n",
    "MSPA_TEXT_JSON format:\n",
    "{\n",
    "  \"story\": {  # The text in MS Paint Adventures, the comics themselves\n",
    "    \"000006\": {\n",
    "      \"title\": \"Look for keyhole\",\n",
    "      \"pageId\": \"000006\",\n",
    "      \"timestamp\": \"1180921880\",\n",
    "      \"flag\": [],\n",
    "      \"media\": [\n",
    "        \"/advimgs/jb/mspaintadventure04.gif\",\n",
    "        \"/advimgs/jb/mspaintadventure04b.gif\"\n",
    "      ],\n",
    "      \"content\": \"\",\n",
    "      \"next\": [\n",
    "        \"000008\"\n",
    "      ],\n",
    "      \"previous\": \"000005\",\n",
    "      \"theme\": \"retro\"\n",
    "    },\n",
    "    \"000009\": {\n",
    "      \"title\": \"Loudly tell that guy to pick up key and try it on the door.\",\n",
    "      \"pageId\": \"000009\",\n",
    "      \"timestamp\": \"1180931172\",\n",
    "      \"flag\": [],\n",
    "      \"media\": [\n",
    "        \"/advimgs/jb/mspaintadventure06.gif\"\n",
    "      ],\n",
    "      \"content\": \"Despite your bellowing, the man casually opens the door and leaves.\",\n",
    "      \"next\": [\n",
    "        \"000010\"\n",
    "      ],\n",
    "      \"previous\": \"000008\",\n",
    "      \"theme\": \"retro\"\n",
    "    },\n",
    "  },...\n",
    "  \"ryanquest\": {...},  # Additional Ryanquest comic\n",
    "  \"psExtras\": {...}, # Bonus pages for Problem Sleuth\n",
    "  \"wv\": {...}, # \"Exile\" Homestuck pages, should be processed just like the \"story\" pages\n",
    "  \"faqs\": {\n",
    "    \"general\": {\n",
    "      \"title\": \"General FAQ - MS Paint Adventures\",\n",
    "      \"pageId\": \"general\",\n",
    "      \"content\": \"...\" # html\n",
    "    },\n",
    "    \"new\": {...},  # New reader guide\n",
    "    \"science\": {...},  # Science FAQ\n",
    "    \"sales\": {...}, # This one was probably not Hussie, so ignore\n",
    "  },\n",
    "  # Other keys are fully irrelevant\n",
    "\"\"\"\n",
    "\n",
    "def extract_mspa_data():\n",
    "    with open(MSPA_TEXT_JSON, 'r', encoding='utf-8') as f:\n",
    "        mspa_data = json.load(f)\n",
    "    return mspa_data\n",
    "\n",
    "mspa_data = extract_mspa_data()\n",
    "\n",
    "\"\"\"\n",
    "The JSON is structured in a way that makes it easy to extract the text data, but we can make it better.\n",
    "This is a better format for the first ML dataset:\n",
    "{\n",
    "    \n",
    "    \"story\": \"Homestuck\"\n",
    "    \"pageId\": \"001902\",\n",
    "    \"title\": \"Enter name\",\n",
    "    \"content\": \"...\",\n",
    "    \"html_content\": \"...\",\n",
    "    \"media\": [\n",
    "        {\n",
    "            \"type\": \"image\",\n",
    "            \"src\": \"...\",  # Relative within dataset\n",
    "            \"textDescription\": \"...\"  # For generating this, we can use image models and the text transcripts from readmspa,\n",
    "            \"tags\": [] # Tags for the image, characters, locations, etc. we can extract some from the character POV extension and image search\n",
    "        }\n",
    "    ],\n",
    "    \"tags\": [], # Character and other tags for the text depending on the type of content \n",
    "    \"next\": \"001903\",\n",
    "    \"next_title\": \"Try again.\",\n",
    "}\n",
    "\n",
    "We'll have other datasets with things like the entirety of Hussie's text in one place, or just the images... we'll think about it\n",
    "\"\"\"\n",
    "\n"
   ],
   "metadata": {
    "collapsed": false,
    "ExecuteTime": {
     "end_time": "2024-04-17T09:59:27.068971Z",
     "start_time": "2024-04-17T09:59:26.983789Z"
    }
   },
   "id": "b0caa83cdb1203fb",
   "execution_count": 22
  }
 ],
 "metadata": {
  "kernelspec": {
   "display_name": "Python 3",
   "language": "python",
   "name": "python3"
  },
  "language_info": {
   "codemirror_mode": {
    "name": "ipython",
    "version": 2
   },
   "file_extension": ".py",
   "mimetype": "text/x-python",
   "name": "python",
   "nbconvert_exporter": "python",
   "pygments_lexer": "ipython2",
   "version": "2.7.6"
  }
 },
 "nbformat": 4,
 "nbformat_minor": 5
}
