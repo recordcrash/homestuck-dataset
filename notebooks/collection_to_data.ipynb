{
 "cells": [
  {
   "cell_type": "markdown",
   "source": [
    "# Converting Homestuck Collection data to an agnostic dataset\n",
    "\n",
    "This notebook has all the steps for taking data from the [Unofficial Homestuck Collection](https://bambosh.dev/unofficial-homestuck-collection/)'s asset pack and converting it into a dataset that can be used for training a machine learning model.\n",
    "\n",
    "Some planned uses for this are:\n",
    "- Summarization\n",
    "- Style transfer/LORAs\n",
    "- Chatbots"
   ],
   "metadata": {
    "collapsed": false
   },
   "id": "4fc6db19026c6712"
  },
  {
   "cell_type": "markdown",
   "source": [
    "# Constants and Imports"
   ],
   "metadata": {
    "collapsed": false
   },
   "id": "3a5b4fe83d23a00"
  },
  {
   "cell_type": "code",
   "outputs": [],
   "source": [
    "\"\"\"\n",
    "IMPORTS\n",
    "Put all the beginning because I hate notebooks so much\n",
    "\"\"\"\n",
    "import os\n",
    "import pandas as pd\n",
    "import numpy as np\n",
    "import json\n",
    "import re\n",
    "import random\n",
    "import shutil\n",
    "from dotenv import load_dotenv"
   ],
   "metadata": {
    "collapsed": false,
    "ExecuteTime": {
     "end_time": "2024-04-17T09:34:20.307167Z",
     "start_time": "2024-04-17T09:34:20.303938Z"
    }
   },
   "id": "a96f77f5afe024c2",
   "execution_count": 7
  },
  {
   "cell_type": "code",
   "outputs": [
    {
     "name": "stdout",
     "output_type": "stream",
     "text": [
      "Initializing environment variables...\n",
      "COLLECTION_FOLDER: D:\\Downloads\\Asset Pack V2 - The Unofficial Homestuck Collection\\Asset Pack V2\n",
      "OUTPUT_FOLDER: ./output\n"
     ]
    }
   ],
   "source": [
    "\"\"\"\n",
    "CONSTANTS\n",
    "This will extract constants from the env variables set in the .env file\n",
    "\"\"\"\n",
    "\n",
    "load_dotenv()\n",
    "\n",
    "COLLECTION_FOLDER = os.getenv(\"ASSET_PACK_FOLDER\")\n",
    "OUTPUT_FOLDER = os.getenv(\"OUTPUT_FOLDER\")\n",
    "\n",
    "env_variables = {\n",
    "    \"COLLECTION_FOLDER\": COLLECTION_FOLDER,\n",
    "    \"OUTPUT_FOLDER\": OUTPUT_FOLDER\n",
    "}\n",
    "\n",
    "# Check everything has been initialized and output them\n",
    "print(\"Initializing environment variables...\")\n",
    "for key, value in env_variables.items():\n",
    "    if value is None:\n",
    "        raise ValueError(f\"Environment variable {key} has not been set\")\n",
    "    print(f\"{key}: {value}\")"
   ],
   "metadata": {
    "collapsed": false,
    "ExecuteTime": {
     "end_time": "2024-04-17T09:34:59.869616Z",
     "start_time": "2024-04-17T09:34:59.864531Z"
    }
   },
   "id": "e78f80818098b035",
   "execution_count": 10
  }
 ],
 "metadata": {
  "kernelspec": {
   "display_name": "Python 3",
   "language": "python",
   "name": "python3"
  },
  "language_info": {
   "codemirror_mode": {
    "name": "ipython",
    "version": 2
   },
   "file_extension": ".py",
   "mimetype": "text/x-python",
   "name": "python",
   "nbconvert_exporter": "python",
   "pygments_lexer": "ipython2",
   "version": "2.7.6"
  }
 },
 "nbformat": 4,
 "nbformat_minor": 5
}
